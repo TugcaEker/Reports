{
 "cells": [
  {
   "cell_type": "markdown",
   "metadata": {},
   "source": [
    "# Take Home Exam 3"
   ]
  },
  {
   "cell_type": "code",
   "execution_count": 1,
   "metadata": {
    "collapsed": false
   },
   "outputs": [],
   "source": [
    "from problems import *\n",
    "from MasyuSolver import *"
   ]
  },
  {
   "cell_type": "code",
   "execution_count": 2,
   "metadata": {
    "collapsed": false
   },
   "outputs": [
    {
     "name": "stdout",
     "output_type": "stream",
     "text": [
      "┼.╬...\n",
      "..╬..╬\n",
      "....┼.\n",
      ".┼....\n",
      "......\n",
      "....┼.\n",
      "\n",
      "┼─╬┐┌┐\n",
      "│┌╬┘│╬\n",
      "│└──┼│\n",
      "│┼─┐┌┘\n",
      "││┌┘│.\n",
      "└┘└─┼.\n"
     ]
    }
   ],
   "source": [
    "p_6x6 = [p11,p12,p13,p14,p15]\n",
    "p_10x10 = [p21,p22,p23,p24,p25]\n",
    "\n",
    "for i in p01:\n",
    "    for j in i:\n",
    "        print(j, end=\"\")  \n",
    "    print()\n",
    "\n",
    "print()\n",
    "    \n",
    "for i in s01:\n",
    "    for j in i:\n",
    "        print(j, end=\"\")  \n",
    "    print()"
   ]
  },
  {
   "cell_type": "code",
   "execution_count": 3,
   "metadata": {
    "collapsed": true
   },
   "outputs": [],
   "source": [
    "line_chars = [\"│\",\"─\",\"└\",\"┘\",\"┌\",\"┐\"]"
   ]
  },
  {
   "cell_type": "code",
   "execution_count": 4,
   "metadata": {
    "collapsed": false
   },
   "outputs": [
    {
     "name": "stdout",
     "output_type": "stream",
     "text": [
      "['│', '─', '└', '┘', '┌', '┐']\n"
     ]
    }
   ],
   "source": [
    "print(line_chars)"
   ]
  },
  {
   "cell_type": "markdown",
   "metadata": {
    "collapsed": true
   },
   "source": [
    "To solve Masyu Puzzle by using CSP methodology, I followed the steps below;\n",
    "\n",
    "As a initial point, I tried to specify \"minimal\" domain for each cell. I did that by using type of cell and the information whether is it on edge/corner or not. After that, I eliminated the some domain values.\n",
    "\n",
    "After specifying domains, I defined 4 different constraints. Let me explain them;\n",
    "\n",
    "**allCellConstraint**\n",
    "\n",
    "This constraint is applied for \"all\" cells of puzzle. And it checks the existency of the \"conflicting\" values for cells. \n",
    "\n",
    "**blankCellConstraint**\n",
    "\n",
    "This constraint is applied for white/blank/╬ cells of puzzle. And it checks the special cases for white cells. (Both two neighbors can't have non-rectangular value.)\n",
    "\n",
    "**filledCellConstraint**\n",
    "\n",
    "This constraint is applied for black/filled/┼ cells of puzzle. And it checks the special cases for black cells. (Two neighbors should have linear value.)\n",
    "\n",
    "**singleCircleConstraint**\n",
    "\n",
    "This constraint is applied for \"board\". It means it is applied for once and it check whether there is un-needed loops. (empty loop etd)\n"
   ]
  },
  {
   "cell_type": "code",
   "execution_count": null,
   "metadata": {
    "collapsed": true
   },
   "outputs": [],
   "source": [
    "solveMasyu(p11t)"
   ]
  }
 ],
 "metadata": {
  "kernelspec": {
   "display_name": "Python 3",
   "language": "python",
   "name": "python3"
  },
  "language_info": {
   "codemirror_mode": {
    "name": "ipython",
    "version": 3.0
   },
   "file_extension": ".py",
   "mimetype": "text/x-python",
   "name": "python",
   "nbconvert_exporter": "python",
   "pygments_lexer": "ipython3",
   "version": "3.6.0"
  }
 },
 "nbformat": 4,
 "nbformat_minor": 0
}